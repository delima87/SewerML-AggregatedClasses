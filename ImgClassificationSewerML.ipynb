{
 "cells": [
  {
   "cell_type": "markdown",
   "metadata": {},
   "source": [
    "# Image Classification on Sewer-ML dataset"
   ]
  },
  {
   "cell_type": "markdown",
   "metadata": {},
   "source": [
    "## Check Dataset Balance"
   ]
  },
  {
   "cell_type": "code",
   "execution_count": null,
   "metadata": {},
   "outputs": [],
   "source": [
    "from TrainerHuggingFace import DataSetHF\n",
    "\n",
    "dataset_name = \"../../DeepSewerData/DeepSewer/BinaryDefectSewer-ML\"\n",
    "is_data_local = True\n",
    "sewerMlDataSet = DataSetHF(dataset_name,is_data_local)\n",
    "sewerMlDataSet.plotDataBalance()\n",
    "                            "
   ]
  },
  {
   "cell_type": "markdown",
   "metadata": {},
   "source": [
    "## Training with VIT"
   ]
  },
  {
   "cell_type": "code",
   "execution_count": null,
   "metadata": {},
   "outputs": [],
   "source": [
    "from TrainerHuggingFace import TrainerHF\n",
    "\n",
    "model_checkpoint ='google/vit-base-patch16-224'\n",
    "#model_checkpoint ='microsoft/resnet-50'\n",
    "#model_checkpoint ='microsoft/cvt-13'\n",
    "#model_checkpoint =\"nvidia/mit-b2\"\n",
    "\n",
    "dataset_name = \"../../DeepSewerData/DeepSewer/imagefolder_OB_FS_OK_GR\"\n",
    "is_data_local = True\n",
    "outName='testCustomFn'\n",
    "n_epochs= 10\n",
    "lr = 2e-5 \n",
    "batch_size= 32\n",
    "example_trainer = TrainerHF(model_checkpoint,dataset_name,is_data_local)\n",
    "example_trainer.trainModel(outName,n_epochs,lr,batch_size)\n"
   ]
  },
  {
   "cell_type": "markdown",
   "metadata": {},
   "source": [
    "# Infere with pipeline (load model and dataset)"
   ]
  },
  {
   "cell_type": "code",
   "execution_count": null,
   "metadata": {},
   "outputs": [],
   "source": [
    "#Load Testing Dataset from class and try to print some examples\n",
    "from custom_dataset import CustomImageDataset\n",
    "from InfereHuggingFace import InfereHF\n",
    "img_dir_val = '../../../DeepSewerData/DeepSewer/original_data/images_val/'\n",
    "annotations_file_val = '../../../DeepSewerData/DeepSewer/original_data/SewerML_Aggregated_Val.csv'\n",
    "input_labels = ['FO','FS','IN','IS','OB','RB','RO','DE','connections','deposits']\n",
    "valid_dataset = CustomImageDataset(annotations_file_val, img_dir_val, input_labels)\n",
    "sewerml_infere_resnet = InfereHF('trainedModels/resnetAggregatedClasses',valid_dataset,input_labels)\n",
    "sewerml_infere_vit = InfereHF('trainedModels/vitAggregatedClasses',valid_dataset,input_labels)"
   ]
  },
  {
   "cell_type": "markdown",
   "metadata": {},
   "source": [
    "## Infere One Image"
   ]
  },
  {
   "cell_type": "code",
   "execution_count": null,
   "metadata": {},
   "outputs": [],
   "source": [
    "id = 2123\n",
    "img_test = valid_dataset[id]['image']\n",
    "gt, pred_resnet = sewerml_infere_resnet.predicSingleImage(id)\n",
    "gt, pred_vit = sewerml_infere_vit.predicSingleImage(id)\n",
    "print('groundtruth')\n",
    "print(gt)\n",
    "print('resnet')\n",
    "print(pred_resnet)\n",
    "print('vit')\n",
    "print(pred_vit)\n",
    "display(img_test)"
   ]
  },
  {
   "cell_type": "markdown",
   "metadata": {},
   "source": [
    "## Infere Set"
   ]
  },
  {
   "cell_type": "code",
   "execution_count": null,
   "metadata": {},
   "outputs": [],
   "source": [
    "ground_truth, predictions_resnet = sewerml_infere_resnet.predictTestDataset()\n",
    "_, predictions_vit = sewerml_infere_vit.predictTestDataset()\n",
    "predictions_resnet.to_csv('SewerML_Aggregated_PredictionsResnet.csv',index=False)\n",
    "predictions_vit.to_csv('SewerML_Aggregated_PredictionsVit.csv',index=False)\n",
    "ground_truth.to_csv('SewerML_Aggregated_GroundTruth.csv',index=False)"
   ]
  },
  {
   "cell_type": "markdown",
   "metadata": {},
   "source": [
    "# Evaluation"
   ]
  },
  {
   "cell_type": "code",
   "execution_count": null,
   "metadata": {},
   "outputs": [],
   "source": [
    "from evaluation_models import EvaluationSewerModels\n",
    "import numpy as np\n",
    "import pandas as pd\n",
    "input_labels = ['FO','FS','IN','IS','OB','RB','RO','DE','connections','deposits']\n",
    "eval_vit = EvaluationSewerModels('SewerML_Aggregated_GroundTruth.csv','SewerML_Aggregated_PredictionsVit.csv',input_labels)\n",
    "eval_resnet = EvaluationSewerModels('SewerML_Aggregated_GroundTruth.csv','SewerML_Aggregated_PredictionsResnet.csv',input_labels)\n",
    "metric = 'f2'\n",
    "score_vit = eval_vit.evaluate_thresholds(metric,0.04)\n",
    "score_resnet = eval_resnet.evaluate_thresholds(metric,0.04)\n",
    "print(input_labels)\n",
    "print(metric)\n",
    "print('vit',score_vit)\n",
    "print('resnet',score_resnet)\n"
   ]
  },
  {
   "cell_type": "markdown",
   "metadata": {},
   "source": [
    "# Infere external dataset"
   ]
  },
  {
   "cell_type": "code",
   "execution_count": 1,
   "metadata": {},
   "outputs": [
    {
     "name": "stderr",
     "output_type": "stream",
     "text": [
      "/home/deep-sewer/.conda/envs/huggingface/lib/python3.10/site-packages/scipy/__init__.py:146: UserWarning: A NumPy version >=1.16.5 and <1.23.0 is required for this version of SciPy (detected version 1.23.1\n",
      "  warnings.warn(f\"A NumPy version >={np_minversion} and <{np_maxversion}\"\n",
      "100%|██████████| 5/5 [00:00<00:00, 10.75it/s]"
     ]
    },
    {
     "name": "stdout",
     "output_type": "stream",
     "text": [
      "                                            filename        FO        FS IN  \\\n",
      "0  W20_P1_f3a4770a-49a9-44e9-83d8-dfadc3bb6e40_20...         0  0.213244  0   \n",
      "0  W20_P1_c1dd06ba-0c88-463c-b34e-85d9a974f251_20...  0.037451  0.171019  0   \n",
      "0  W20_P1_7be7d15b-ad4e-4bb5-8920-d55a0549e4c7_20...  0.063941  0.064567  0   \n",
      "0  W20_P1_1fee1058-07f2-471a-809d-8aa7ebeea64c_20...         0  0.180847  0   \n",
      "0  W20_P1_e5819c6d-36bc-4135-8ba0-50d264e5ff7d_20...         0  0.191793  0   \n",
      "\n",
      "  IS        OB        RB RO        DE  connections  deposits  \n",
      "0  0         0  0.023491  0  0.140288     0.536786  0.041936  \n",
      "0  0         0  0.000000  0  0.156176     0.522288  0.056571  \n",
      "0  0         0  0.032435  0  0.121729     0.666132  0.000000  \n",
      "0  0         0  0.008876  0  0.126041     0.645029  0.011992  \n",
      "0  0  0.107485  0.064787  0  0.000000     0.232383  0.379093  \n"
     ]
    },
    {
     "name": "stderr",
     "output_type": "stream",
     "text": [
      "\n"
     ]
    }
   ],
   "source": [
    "from InfereHuggingFace import InfereHF\n",
    "\n",
    "input_labels = ['FO','FS','IN','IS','OB','RB','RO','DE','connections','deposits']\n",
    "data_set = 'test_imgs'\n",
    "infere_vit_external_data = InfereHF('trainedModels/vitAggregatedClasses',data_set,input_labels)\n",
    "results_external_data = infere_vit_external_data.predictSetImgs()\n",
    "print(results_external_data)\n",
    "results_external_data.to_csv('test_results.csv',index=False)"
   ]
  }
 ],
 "metadata": {
  "kernelspec": {
   "display_name": "Python 3 (ipykernel)",
   "language": "python",
   "name": "python3"
  },
  "language_info": {
   "codemirror_mode": {
    "name": "ipython",
    "version": 3
   },
   "file_extension": ".py",
   "mimetype": "text/x-python",
   "name": "python",
   "nbconvert_exporter": "python",
   "pygments_lexer": "ipython3",
   "version": "3.10.4"
  },
  "orig_nbformat": 4,
  "vscode": {
   "interpreter": {
    "hash": "5e9fbcdeccc9ed910d58e2c0550fb3206065376fa7ba4c8d23f4378d744bb86e"
   }
  }
 },
 "nbformat": 4,
 "nbformat_minor": 2
}
