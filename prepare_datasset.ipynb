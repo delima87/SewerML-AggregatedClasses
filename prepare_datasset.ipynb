{
 "cells": [
  {
   "cell_type": "markdown",
   "metadata": {},
   "source": [
    "# Arrange Folders"
   ]
  },
  {
   "cell_type": "code",
   "execution_count": null,
   "metadata": {},
   "outputs": [],
   "source": [
    "import os\n",
    "import pandas as pd\n",
    "fileName =  'original_data\\SewerML_Val.csv'\n",
    "data_read = pd.read_csv(fileName)"
   ]
  },
  {
   "cell_type": "code",
   "execution_count": null,
   "metadata": {},
   "outputs": [],
   "source": [
    "srcFolder = 'original_data\\\\valid00\\\\valid00'\n",
    "tgtFolder = 'imagefolder\\\\val'\n",
    "#create folders\n",
    "for i in range(3,len(data_read.keys())):\n",
    "    os.mkdir(os.path.join(tgtFolder,data_read.keys()[i]))\n",
    "    print('creating folder ',data_read.keys()[i])"
   ]
  },
  {
   "cell_type": "code",
   "execution_count": null,
   "metadata": {},
   "outputs": [],
   "source": [
    "# read csv file\n",
    "import shutil\n",
    "import pandas as pd\n",
    "import os\n",
    "from tqdm import tqdm\n",
    "\n",
    "# go through all rows and cols \n",
    "# counter = 0\n",
    "# N = 10\n",
    "for i in tqdm(range(10474)):\n",
    "    for j in range(3,len(data_read.keys())):\n",
    "        if (data_read.iloc[i,j] == 1):\n",
    "            cpSrc = os.path.join(srcFolder,data_read.iloc[i,0])\n",
    "            cpTgt = os.path.join(tgtFolder,data_read.keys()[j])\n",
    "            try:\n",
    "                shutil.copy(cpSrc,cpTgt)\n",
    "            except:\n",
    "                pass\n",
    "\n",
    "#go through all the rows, if result is 1 then copy it to the selected folder"
   ]
  },
  {
   "cell_type": "markdown",
   "metadata": {},
   "source": [
    "# Custom Class from CSV (modify this class)"
   ]
  },
  {
   "cell_type": "code",
   "execution_count": 1,
   "metadata": {},
   "outputs": [
    {
     "name": "stderr",
     "output_type": "stream",
     "text": [
      "/home/deep-sewer/.conda/envs/huggingface/lib/python3.10/site-packages/scipy/__init__.py:146: UserWarning: A NumPy version >=1.16.5 and <1.23.0 is required for this version of SciPy (detected version 1.23.1\n",
      "  warnings.warn(f\"A NumPy version >={np_minversion} and <{np_maxversion}\"\n"
     ]
    }
   ],
   "source": [
    "import os\n",
    "import torch\n",
    "import pandas as pd\n",
    "from skimage import io, transform\n",
    "import numpy as np\n",
    "import matplotlib.pyplot as plt\n",
    "from torch.utils.data import Dataset, DataLoader\n",
    "from torchvision import transforms, utils\n",
    "\n",
    "class DeepSewerMLClassification(Dataset):\n",
    "    def __init__(self, csv_file, root_dir, transform=None):\n",
    "        self.csvFile = pd.read_csv(csv_file)\n",
    "        self.root_dir = root_dir\n",
    "        self.transform = transform\n",
    "\n",
    "    def __len__(self):\n",
    "        return len(self.csvFile)\n",
    "\n",
    "    def __getitem__(self, idx):\n",
    "        if torch.is_tensor(idx):\n",
    "            idx = idx.tolist()\n",
    "\n",
    "        img_name = os.path.join(self.root_dir,\n",
    "                                self.csvFile.iloc[idx, 0])\n",
    "        image = io.imread(img_name)\n",
    "        label = self.csvFile.iloc[idx,1]\n",
    "        sample = {'image': image, 'label': label}\n",
    "\n",
    "        if self.transform:\n",
    "            sample = self.transform(sample)\n",
    "\n",
    "        return sample"
   ]
  },
  {
   "cell_type": "code",
   "execution_count": 5,
   "metadata": {},
   "outputs": [],
   "source": [
    "from torch.utils.data import DataLoader\n",
    "root_dir = '../../../DeepSewerData/DeepSewer/original_data/train00'\n",
    "myDataSet = DeepSewerMLClassification('SewerML_Train00_OB_FS_OK_GR.csv',root_dir)\n",
    "train_dataloader = DataLoader(myDataSet, batch_size=64, shuffle=True)\n",
    "train_features, train_labels = next(iter(train_dataloader))\n",
    "# for i in range(len(myDataSet)):\n",
    "#     sample = myDataSet[i]\n",
    "\n",
    "#     print(i, sample['image'].shape, sample['label'])\n",
    "#     plt.imshow(sample['image'])\n",
    "#     if i == 10:\n",
    "#         #plt.show()\n",
    "#         break\n"
   ]
  },
  {
   "cell_type": "markdown",
   "metadata": {},
   "source": [
    "# Create 1 big csv file"
   ]
  },
  {
   "cell_type": "code",
   "execution_count": 1,
   "metadata": {},
   "outputs": [
    {
     "name": "stderr",
     "output_type": "stream",
     "text": [
      "100%|██████████| 33139/33139 [00:21<00:00, 1547.45it/s]\n"
     ]
    }
   ],
   "source": [
    "#read csv file\n",
    "import os\n",
    "import pandas as pd\n",
    "import numpy as np\n",
    "from tqdm import tqdm\n",
    "fileName =  'original_data\\SewerML_Train00.csv'\n",
    "fileNameRWorkspace ='../../../DeepSewerData/DeepSewer/original_data/SewerML_Train00.csv'\n",
    "root_dir = '../../../DeepSewerData/DeepSewer/original_data/train00'\n",
    "\n",
    "Labels = [\"RB\",\"OB\",\"PF\",\"DE\",\"FS\",\"IS\",\"RO\",\"IN\",\"AF\",\"BE\",\"FO\",\"GR\",\"PH\",\"PB\",\"OS\",\"OP\",\"OK\", \"VA\", \"ND\"]\n",
    "labels_testing= ['OB','FS','OK','GR']\n",
    "#Labels.remove(\"VA\")\n",
    "#Labels.remove(\"ND\")\n",
    "data_csv = pd.read_csv(fileNameRWorkspace, sep=\",\", encoding=\"utf-8\", usecols = labels_testing + [\"Filename\"])\n",
    "data_csv_new = pd.DataFrame(columns=['file_name', 'label'])\n",
    "\n",
    "for i in tqdm(range(len(data_csv))):\n",
    "    row_labels = data_csv[labels_testing].values[i]\n",
    "    predictions = np.argwhere(row_labels == 1)\n",
    "    for p in predictions:\n",
    "        df2= pd.DataFrame([[data_csv[\"Filename\"][i],p[0]]],columns=['file_name', 'label'])\n",
    "        data_csv_new = pd.concat([data_csv_new,df2])\n",
    "data_csv_new.to_csv('SewerML_Train00_OB_FS_OK_GR.csv',index=False)\n",
    "\n",
    "\n",
    "\n",
    "\n",
    "\n"
   ]
  }
 ],
 "metadata": {
  "kernelspec": {
   "display_name": "Python 3.10.4 ('huggingface')",
   "language": "python",
   "name": "python3"
  },
  "language_info": {
   "codemirror_mode": {
    "name": "ipython",
    "version": 3
   },
   "file_extension": ".py",
   "mimetype": "text/x-python",
   "name": "python",
   "nbconvert_exporter": "python",
   "pygments_lexer": "ipython3",
   "version": "3.10.4"
  },
  "orig_nbformat": 4,
  "vscode": {
   "interpreter": {
    "hash": "5e9fbcdeccc9ed910d58e2c0550fb3206065376fa7ba4c8d23f4378d744bb86e"
   }
  }
 },
 "nbformat": 4,
 "nbformat_minor": 2
}
